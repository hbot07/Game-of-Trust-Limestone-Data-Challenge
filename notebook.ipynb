{
 "cells": [
  {
   "cell_type": "markdown",
   "metadata": {},
   "source": [
    "# Loading the Data"
   ]
  },
  {
   "cell_type": "code",
   "execution_count": 10,
   "metadata": {},
   "outputs": [
    {
     "data": {
      "text/html": [
       "<div>\n",
       "<style scoped>\n",
       "    .dataframe tbody tr th:only-of-type {\n",
       "        vertical-align: middle;\n",
       "    }\n",
       "\n",
       "    .dataframe tbody tr th {\n",
       "        vertical-align: top;\n",
       "    }\n",
       "\n",
       "    .dataframe thead th {\n",
       "        text-align: right;\n",
       "    }\n",
       "</style>\n",
       "<table border=\"1\" class=\"dataframe\">\n",
       "  <thead>\n",
       "    <tr style=\"text-align: right;\">\n",
       "      <th></th>\n",
       "      <th>game_id</th>\n",
       "      <th>p1_id</th>\n",
       "      <th>p2_id</th>\n",
       "      <th>p1_action</th>\n",
       "      <th>p2_action</th>\n",
       "      <th>turn</th>\n",
       "    </tr>\n",
       "  </thead>\n",
       "  <tbody>\n",
       "    <tr>\n",
       "      <th>0</th>\n",
       "      <td>0</td>\n",
       "      <td>174</td>\n",
       "      <td>125</td>\n",
       "      <td>TRUST</td>\n",
       "      <td>CHEAT</td>\n",
       "      <td>1</td>\n",
       "    </tr>\n",
       "    <tr>\n",
       "      <th>1</th>\n",
       "      <td>0</td>\n",
       "      <td>174</td>\n",
       "      <td>125</td>\n",
       "      <td>CHEAT</td>\n",
       "      <td>TRUST</td>\n",
       "      <td>2</td>\n",
       "    </tr>\n",
       "    <tr>\n",
       "      <th>2</th>\n",
       "      <td>0</td>\n",
       "      <td>174</td>\n",
       "      <td>125</td>\n",
       "      <td>TRUST</td>\n",
       "      <td>TRUST</td>\n",
       "      <td>3</td>\n",
       "    </tr>\n",
       "    <tr>\n",
       "      <th>3</th>\n",
       "      <td>0</td>\n",
       "      <td>174</td>\n",
       "      <td>125</td>\n",
       "      <td>TRUST</td>\n",
       "      <td>TRUST</td>\n",
       "      <td>4</td>\n",
       "    </tr>\n",
       "    <tr>\n",
       "      <th>4</th>\n",
       "      <td>0</td>\n",
       "      <td>174</td>\n",
       "      <td>125</td>\n",
       "      <td>TRUST</td>\n",
       "      <td>TRUST</td>\n",
       "      <td>5</td>\n",
       "    </tr>\n",
       "  </tbody>\n",
       "</table>\n",
       "</div>"
      ],
      "text/plain": [
       "   game_id  p1_id  p2_id p1_action p2_action  turn\n",
       "0        0    174    125     TRUST     CHEAT     1\n",
       "1        0    174    125     CHEAT     TRUST     2\n",
       "2        0    174    125     TRUST     TRUST     3\n",
       "3        0    174    125     TRUST     TRUST     4\n",
       "4        0    174    125     TRUST     TRUST     5"
      ]
     },
     "execution_count": 10,
     "metadata": {},
     "output_type": "execute_result"
    }
   ],
   "source": [
    "import pandas as pd\n",
    "\n",
    "# Load the dataset\n",
    "file_path = 'input_game.csv'\n",
    "game_data = pd.read_csv(file_path)\n",
    "\n",
    "game_data.head()"
   ]
  },
  {
   "cell_type": "markdown",
   "metadata": {},
   "source": [
    "# Engineering features representing each strategy"
   ]
  },
  {
   "cell_type": "code",
   "execution_count": 11,
   "metadata": {},
   "outputs": [],
   "source": [
    "import numpy as np\n",
    "\n",
    "# Extracting features for each player\n",
    "players_features = {}\n",
    "# Sort the data by turn\n",
    "game_data = game_data.sort_values(by=['game_id', 'turn'])\n",
    "for game_id in game_data['game_id'].unique():\n",
    "    game = game_data[game_data['game_id'] == game_id]\n",
    "    for _, row in game.iterrows():\n",
    "        for player_id, action, opponent_action in [(row['p1_id'], row['p1_action'], row['p2_action']), \n",
    "                                                    (row['p2_id'], row['p2_action'], row['p1_action'])]:\n",
    "            if player_id not in players_features:\n",
    "                players_features[player_id] = {\n",
    "                    'actions': [],\n",
    "                    'opponent_actions': [],\n",
    "                    'per_game_actions': [],\n",
    "                    'per_game_opponent_actions': []\n",
    "                }\n",
    "            players_features[player_id]['actions'].append(action)\n",
    "            players_features[player_id]['opponent_actions'].append(opponent_action)\n",
    "        for player_id in [row['p1_id'], row['p2_id']]:\n",
    "            players_features[player_id]['per_game_actions'].append(players_features[player_id]['actions'])\n",
    "            players_features[player_id]['per_game_opponent_actions'].append(players_features[player_id]['actions'])"
   ]
  },
  {
   "cell_type": "markdown",
   "metadata": {},
   "source": [
    "# Calculating Features"
   ]
  },
  {
   "cell_type": "markdown",
   "metadata": {},
   "source": [
    "Due to computational constraints of our laptops, we have only added some basic features. More features like historical_trust_vs_cheat_ratio, opponent_cheating_threshold_strategy, and tit_for_tat_behavior can be added"
   ]
  },
  {
   "cell_type": "code",
   "execution_count": 12,
   "metadata": {},
   "outputs": [],
   "source": [
    "# Calculate features\n",
    "for player_id, features in players_features.items():\n",
    "    actions = features['actions']\n",
    "    opponent_actions = features['opponent_actions']\n",
    "    \n",
    "    # Frequency of TRUST vs CHEAT\n",
    "    trust_freq = actions.count('TRUST') / len(actions) # models prior probability of TRUST\n",
    "    cheat_freq = actions.count('CHEAT') / len(actions) # models prior probability of CHEAT\n",
    "    \n",
    "    # Reaction to opponent's TRUST or CHEAT\n",
    "    reactions_after_opponent_trust = [actions[i] for i in range(1, len(actions)) if opponent_actions[i-1] == 'TRUST']\n",
    "    reactions_after_opponent_cheat = [actions[i] for i in range(1, len(actions)) if opponent_actions[i-1] == 'CHEAT']\n",
    "    \n",
    "    # Frequency of each response\n",
    "    trust_after_trust = reactions_after_opponent_trust.count('TRUST') / len(reactions_after_opponent_trust) if reactions_after_opponent_trust else 0\n",
    "    cheat_after_trust = reactions_after_opponent_trust.count('CHEAT') / len(reactions_after_opponent_trust) if reactions_after_opponent_trust else 0\n",
    "    trust_after_cheat = reactions_after_opponent_cheat.count('TRUST') / len(reactions_after_opponent_cheat) if reactions_after_opponent_cheat else 0\n",
    "    cheat_after_cheat = reactions_after_opponent_cheat.count('CHEAT') / len(reactions_after_opponent_cheat) if reactions_after_opponent_cheat else 0\n",
    "    \n",
    "    # Tendency to alternate between TRUST and CHEAT\n",
    "    alternations = 0\n",
    "    for i in range(len(actions) - 1):\n",
    "        if actions[i] != actions[i + 1]:\n",
    "            alternations += 1\n",
    "    tendency_to_alternate = alternations / (len(actions) - 1) if len(actions) > 1 else 0\n",
    "    \n",
    "    # Construct Feature for each player\n",
    "    strategy_signature = (trust_freq, cheat_freq, trust_after_trust, cheat_after_trust, trust_after_cheat, cheat_after_cheat, tendency_to_alternate)\n",
    "    features['strategy_signature'] = strategy_signature"
   ]
  },
  {
   "cell_type": "markdown",
   "metadata": {},
   "source": [
    "# Finding unique datapoints"
   ]
  },
  {
   "cell_type": "code",
   "execution_count": 13,
   "metadata": {},
   "outputs": [
    {
     "data": {
      "text/plain": [
       "201"
      ]
     },
     "execution_count": 13,
     "metadata": {},
     "output_type": "execute_result"
    }
   ],
   "source": [
    "\n",
    "# Now, identify unique strategies based on the extracted features\n",
    "unique_strategies = set()\n",
    "for features in players_features.values():\n",
    "    strategy_signature = features['strategy_signature']\n",
    "    unique_strategies.add(strategy_signature)\n",
    "\n",
    "# The total number of distinct strategies\n",
    "N = len(unique_strategies)\n",
    "N"
   ]
  },
  {
   "cell_type": "markdown",
   "metadata": {},
   "source": [
    "good, this value should be 201, we have a different feature vector for each player"
   ]
  },
  {
   "cell_type": "markdown",
   "metadata": {},
   "source": [
    "# Problem 1: Small world and Problem 2: Birds of a feather\n",
    "## K Means Clustering, and finding optimal number of clusters"
   ]
  },
  {
   "cell_type": "code",
   "execution_count": 14,
   "metadata": {},
   "outputs": [
    {
     "data": {
      "image/png": "[encoded data removed]",
      "text/plain": [
       "<Figure size 1400x600 with 2 Axes>"
      ]
     },
     "metadata": {},
     "output_type": "display_data"
    }
   ],
   "source": [
    "from sklearn.preprocessing import StandardScaler\n",
    "from sklearn.cluster import KMeans\n",
    "from sklearn.metrics import silhouette_score\n",
    "import matplotlib.pyplot as plt\n",
    "\n",
    "# Prepare the feature matrix\n",
    "feature_matrix = []\n",
    "player_ids = []\n",
    "for player_id, features in players_features.items():\n",
    "    feature_vector = features['strategy_signature']\n",
    "    feature_matrix.append(feature_vector)\n",
    "    player_ids.append(player_id)\n",
    "\n",
    "\n",
    "def elbow_silhouette(feature_matrix, player_ids, method='silhouette_coeffs'):\n",
    "    # Normalize the features\n",
    "    scaler = StandardScaler()\n",
    "    normalized_features = scaler.fit_transform(feature_matrix)\n",
    "\n",
    "    # Find the optimal number of clusters using the Elbow Method and Silhouette Coefficient\n",
    "    inertia = []\n",
    "    silhouette_coeffs = []\n",
    "    range_values = range(2, 201)  # Testing a range of cluster counts\n",
    "\n",
    "    for i in range_values:\n",
    "        kmeans = KMeans(n_clusters=i, random_state=42)\n",
    "        kmeans.fit(normalized_features)\n",
    "        inertia.append(kmeans.inertia_)\n",
    "        silhouette_coeffs.append(silhouette_score(normalized_features, kmeans.labels_))\n",
    "\n",
    "    # Plotting the Elbow Method and Silhouette Coefficients\n",
    "    plt.figure(figsize=(14, 6))\n",
    "    plt.subplot(1, 2, 1)\n",
    "    plt.plot(range_values, inertia, '-o')\n",
    "    plt.title('Elbow Method')\n",
    "    plt.xlabel('Number of clusters')\n",
    "    plt.ylabel('Inertia')\n",
    "\n",
    "    plt.subplot(1, 2, 2)\n",
    "    plt.plot(range_values, silhouette_coeffs, '-o')\n",
    "    plt.title('Silhouette Coefficient')\n",
    "    plt.xlabel('Number of clusters')\n",
    "    plt.ylabel('Silhouette Coefficient')\n",
    "\n",
    "    plt.tight_layout()\n",
    "    plt.show()\n",
    "    # Choose the optimal number of clusters based on silhouette coefficient\n",
    "    optimal_clusters = range_values[silhouette_coeffs.index(max(silhouette_coeffs))]\n",
    "\n",
    "    # Perform K-Means clustering with the optimal number of clusters\n",
    "    kmeans_optimal = KMeans(n_clusters=optimal_clusters, random_state=42)\n",
    "    cluster_labels = kmeans_optimal.fit_predict(normalized_features)\n",
    "\n",
    "    # Mapping each player to their respective cluster\n",
    "    player_strategy_mapping = {player: cluster for player, cluster in zip(player_ids, cluster_labels)}\n",
    "\n",
    "    # Count the number of players in each strategy\n",
    "    strategy_counts = {i: list(cluster_labels).count(i) for i in range(optimal_clusters)}\n",
    "\n",
    "    # Grouping players by their assigned strategy\n",
    "    strategy_groups = {}\n",
    "    for player_id, cluster_label in player_strategy_mapping.items():\n",
    "        if cluster_label not in strategy_groups:\n",
    "            strategy_groups[cluster_label] = []\n",
    "        strategy_groups[cluster_label].append(player_id)\n",
    "\n",
    "    # Sorting the players within each strategy group\n",
    "    for strategy, players in strategy_groups.items():\n",
    "        players.sort()\n",
    "\n",
    "    # Ordering the groups based on the smallest player id in each group\n",
    "    ordered_strategy_groups = [group for _, group in sorted(strategy_groups.items(), key=lambda item: item[1][0])]\n",
    "\n",
    "    # Fit the K-Means model\n",
    "    kmeans = KMeans(n_clusters=optimal_clusters, random_state=42)\n",
    "    kmeans.fit(normalized_features)\n",
    "    centroids_normalized = kmeans.cluster_centers_\n",
    "\n",
    "    # Convert the centroids back to the original feature space\n",
    "    centroids_original = scaler.inverse_transform(centroids_normalized)\n",
    "\n",
    "    # Count the number of players in each cluster and group player IDs by cluster\n",
    "    cluster_labels = kmeans.labels_\n",
    "    player_counts = np.bincount(cluster_labels)\n",
    "\n",
    "    # Group player_ids by their cluster\n",
    "    clustered_player_ids = {i: [] for i in range(optimal_clusters)}\n",
    "    for player_id, cluster_label in zip(player_ids, cluster_labels):\n",
    "        clustered_player_ids[cluster_label].append(player_id)\n",
    "\n",
    "    # Prepare the data for CSV export\n",
    "    csv_data = {\n",
    "        'Cluster': [],\n",
    "        'Centroid (Normalized)': [],\n",
    "        'Centroid (Original)': [],\n",
    "        'Player Count': [],\n",
    "        'Player IDs': []\n",
    "    }\n",
    "\n",
    "    for i in range(optimal_clusters):\n",
    "        csv_data['Cluster'].append(i)\n",
    "        csv_data['Centroid (Normalized)'].append(list(centroids_normalized[i]))\n",
    "        csv_data['Centroid (Original)'].append(list(centroids_original[i]))\n",
    "        csv_data['Player Count'].append(player_counts[i])\n",
    "        csv_data['Player IDs'].append(clustered_player_ids[i])\n",
    "\n",
    "    # Convert the data into a DataFrame\n",
    "    strategy_df = pd.DataFrame(csv_data)\n",
    "\n",
    "    # Save the DataFrame to CSV\n",
    "    csv_file_path = 'strategy_clusters.csv'  # Adjust the path as needed for your environment\n",
    "    strategy_df.to_csv(csv_file_path, index=False)\n",
    "\n",
    "    return optimal_clusters, csv_data\n",
    "\n",
    "\n",
    "optimal_clusters, csv_data = elbow_silhouette(feature_matrix, player_ids)"
   ]
  },
  {
   "cell_type": "markdown",
   "metadata": {},
   "source": [
    "we get 13 startegy clusters. we store the detailed output in strategy_clusters.csv.  \n",
    "\n",
    "Now the strategies can be modeled back by looking at the centroid values"
   ]
  },
  {
   "cell_type": "markdown",
   "metadata": {},
   "source": [
    "# Problem 3: Now I see you"
   ]
  },
  {
   "cell_type": "code",
   "execution_count": 15,
   "metadata": {},
   "outputs": [],
   "source": [
    "# Function to interpret centroid characteristics\n",
    "def interpret_centroid(centroid):\n",
    "    interpretations = []\n",
    "    # Interpret each component of the centroid\n",
    "    if centroid[0] > 0.5:  # High frequency of trust\n",
    "        interpretations.append(\"Highly trusting\")\n",
    "    else:\n",
    "        interpretations.append(\"Less trusting\")\n",
    "\n",
    "    if centroid[1] > 0.5:  # High frequency of cheat\n",
    "        interpretations.append(\"Often cheats\")\n",
    "    else:\n",
    "        interpretations.append(\"Seldom cheats\")\n",
    "\n",
    "    if centroid[2] > 0.7:  # High trust after opponent trusts\n",
    "        interpretations.append(\"Trusts after opponent trusts\")\n",
    "    elif centroid[2] < 0.3:\n",
    "        interpretations.append(\"Distrusts despite opponent's trust\")\n",
    "\n",
    "    if centroid[3] > 0.7:  # High cheat after opponent trusts\n",
    "        interpretations.append(\"Betrays after opponent trusts\")\n",
    "    elif centroid[3] < 0.3:\n",
    "        interpretations.append(\"Remains loyal despite opponent's trust\")\n",
    "\n",
    "    if centroid[4] > 0.7:  # High trust after opponent cheats\n",
    "        interpretations.append(\"Forgiving after being betrayed\")\n",
    "    elif centroid[4] < 0.3:\n",
    "        interpretations.append(\"Unforgiving after being betrayed\")\n",
    "\n",
    "    if centroid[5] > 0.7:  # High cheat after opponent cheats\n",
    "        interpretations.append(\"Retaliates after being betrayed\")\n",
    "    elif centroid[5] < 0.3:\n",
    "        interpretations.append(\"Does not retaliate after being betrayed\")\n",
    "\n",
    "    if centroid[6] > 0.6:  # High tendency to alternate\n",
    "        interpretations.append(\"Frequently alternates\")\n",
    "    elif centroid[6] < 0.4:\n",
    "        interpretations.append(\"Rarely alternates\")\n",
    "\n",
    "    return ', '.join(interpretations)\n",
    "\n",
    "# Add 'Analysis' to your CSV data\n",
    "csv_data['Analysis'] = [interpret_centroid(centroid) for centroid in csv_data['Centroid (Original)']]\n",
    "\n",
    "# Convert updated data into a DataFrame\n",
    "strategy_df_updated = pd.DataFrame(csv_data)\n",
    "\n",
    "# Save the updated DataFrame to CSV\n",
    "updated_csv_file_path = 'strategy_clusters_analysis.csv'  # Adjust the path as needed for your environment\n",
    "strategy_df_updated.to_csv(updated_csv_file_path, index=False)\n"
   ]
  },
  {
   "cell_type": "markdown",
   "metadata": {},
   "source": [
    "the analyses for each strategy are now stored in the last column in strategy_cluster_analysis.csv"
   ]
  },
  {
   "cell_type": "markdown",
   "metadata": {},
   "source": [
    "# Problem 5: Dark Forest  \n",
    "\n",
    "Enhanced Analysis:\n",
    "\n",
    "In the simulated environment of the \"Game of Trust\", the dynamics of player interactions and strategy effectiveness are significantly affected by the rate of miscommunication. As we introduce and increase miscommunication probabilities, we observe shifts in strategy performance, attributable to how each strategy processes errors in communication:\n",
    "\n",
    "Copycat Strategy: This strategy thrives in low-miscommunication environments (below 1%). It is built on reciprocity and mutual cooperation, which leads to high rewards when both players understand each other's moves correctly. However, as miscommunication increases, the effectiveness of the Copycat strategy diminishes because the reciprocal nature of the strategy gets disrupted, leading to unnecessary retaliations and missed opportunities for cooperation.\n",
    "\n",
    "Copykitten Strategy: This variant is more forgiving than Copycat, as it requires two consecutive cheats to trigger retaliation. This added leniency makes Copykitten the dominant strategy in environments with miscommunication rates between 1% and 10%. The strategy balances between avoiding false retaliations due to miscommunication and punishing consistent uncooperative behavior.\n",
    "\n",
    "Grudger Strategy: Holding a grudge after being cheated k times (with k set to 1 for simplicity) becomes advantageous in environments with moderate miscommunication rates (between 10% and 20%). The Grudger's initial cooperation helps build trust when signals are mostly reliable, but its shift to relentless retaliation becomes a protective measure against frequent misunderstandings and the perceived betrayal.\n",
    "\n",
    "Cheater Strategy: In high-miscommunication environments (above 20%), the complexity and subtlety of conditional strategies lose their effectiveness due to the high likelihood of signals being incorrectly interpreted. In these scenarios, the Cheater, unconcerned with the fidelity of communication, unexpectedly becomes the most successful. This strategy does not rely on the opponent’s moves and thus remains unaffected by misinterpretation, ensuring a steady, albeit lower, return irrespective of the communication quality."
   ]
  },
  {
   "cell_type": "markdown",
   "metadata": {},
   "source": [
    "# Problem 6: Master of All  \n",
    "\n",
    "To create a strategy that aims to outperform existing strategies, including \"Copykitten\", let's think about a more adaptive and resilient strategy. We'll call this strategy \"AdaptiveStrategist\". The idea behind this strategy is to analyze the opponent's past behavior more comprehensively and adjust our moves accordingly. This strategy will:\n",
    "\n",
    "Start with cooperation (TRUST).\n",
    "Retaliate immediately if cheated upon (to avoid exploitation).\n",
    "Return to TRUST if the opponent has been trustworthy for the last few moves (to encourage mutual cooperation).\n",
    "Incorporate a forgiveness mechanism after a certain number of rounds to break continuous retaliation loops.\n",
    "Adapt based on the frequency of the opponent's TRUST and CHEAT actions."
   ]
  },
  {
   "cell_type": "code",
   "execution_count": 16,
   "metadata": {},
   "outputs": [
    {
     "name": "stdout",
     "output_type": "stream",
     "text": [
      "Next Move: Action.CHEAT\n"
     ]
    }
   ],
   "source": [
    "from enum import Enum\n",
    "from typing import List\n",
    "from collections import Counter\n",
    "\n",
    "class Action(Enum):\n",
    "    TRUST = 1\n",
    "    CHEAT = 2\n",
    "\n",
    "def adaptive_strategy(past_self: List[Action], past_opponent: List[Action]) -> Action:\n",
    "    # Start with trust\n",
    "    if not past_self:\n",
    "        return Action.TRUST\n",
    "    \n",
    "    # Analyze opponent's past behavior\n",
    "    opponent_behavior = Counter(past_opponent)\n",
    "    trust_percentage = opponent_behavior.get(Action.TRUST, 0) / len(past_opponent)\n",
    "    \n",
    "    # Retaliate if cheated upon recently\n",
    "    if past_opponent[-1] == Action.CHEAT:\n",
    "        return Action.CHEAT\n",
    "    \n",
    "    # If the opponent has been mostly trustworthy, continue to trust\n",
    "    if trust_percentage > 0.7:\n",
    "        return Action.TRUST\n",
    "    \n",
    "    # Incorporate forgiveness mechanism - forgive after two CHEATs\n",
    "    if len(past_self) > 3 and past_opponent[-1] == Action.TRUST and past_opponent[-2] == Action.CHEAT and past_opponent[-3] == Action.CHEAT:\n",
    "        return Action.TRUST\n",
    "    \n",
    "    # Default to trusting if the opponent's behavior is not extreme\n",
    "    return Action.TRUST\n",
    "\n",
    "# Test the strategy\n",
    "past_self_example = [Action.TRUST, Action.CHEAT, Action.TRUST]\n",
    "past_opponent_example = [Action.TRUST, Action.CHEAT, Action.CHEAT]\n",
    "next_move = adaptive_strategy(past_self_example, past_opponent_example)\n",
    "print(f\"Next Move: {next_move}\")"
   ]
  },
  {
   "cell_type": "code",
   "execution_count": null,
   "metadata": {},
   "outputs": [],
   "source": []
  }
 ],
 "metadata": {
  "kernelspec": {
   "display_name": "Python 3",
   "language": "python",
   "name": "python3"
  },
  "language_info": {
   "codemirror_mode": {
    "name": "ipython",
    "version": 3
   },
   "file_extension": ".py",
   "mimetype": "text/x-python",
   "name": "python",
   "nbconvert_exporter": "python",
   "pygments_lexer": "ipython3",
   "version": "3.9.6"
  }
 },
 "nbformat": 4,
 "nbformat_minor": 2
}
